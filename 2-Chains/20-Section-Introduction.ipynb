{
 "cells": [
  {
   "cell_type": "markdown",
   "id": "744d0a4f-6751-4683-91ed-b6639447a018",
   "metadata": {},
   "source": [
    "![NVIDIA](images/nvidia.png)"
   ]
  },
  {
   "cell_type": "markdown",
   "id": "688ebc37-2bdc-4094-9bad-671bd6d4faa5",
   "metadata": {},
   "source": [
    "# Section 2: LangChain Expression Language (LCEL), Runnables, and Chains"
   ]
  },
  {
   "cell_type": "code",
   "execution_count": 3,
   "id": "5b994690-4ea9-401e-89cc-3188d65384c1",
   "metadata": {},
   "outputs": [],
   "source": [
    "from videos.walkthroughs import walkthrough_20 as walkthrough"
   ]
  },
  {
   "cell_type": "code",
   "execution_count": 4,
   "id": "658d68cb-b89c-40b9-85c8-18496c671577",
   "metadata": {},
   "outputs": [
    {
     "data": {
      "text/html": [
       "\n",
       "    <video controls width=\"640\" height=\"360\">\n",
       "        <source src=\"https://d36m44n9vdbmda.cloudfront.net/assets/s-fx-12-v2/walkthrough_20.mp4\" type=\"video/mp4\">\n",
       "        Your browser does not support the video tag.\n",
       "    </video>\n",
       "    "
      ],
      "text/plain": [
       "<IPython.core.display.HTML object>"
      ]
     },
     "metadata": {},
     "output_type": "display_data"
    }
   ],
   "source": [
    "walkthrough()"
   ]
  },
  {
   "cell_type": "markdown",
   "id": "c67fadf7-f01e-439d-b592-9980dd44364d",
   "metadata": {},
   "source": [
    "Now that you're comfortable prompting LLMs, you're going to learn how to drastically increase the amount of work you can perform with LLMs, and in an elegant way, by creating LangChain chains. At the core of LangChain chains are runnables, which are actions of work that can be composed in a variety of practical and helpful ways.\n",
    "\n",
    "By the time you complete this section you'll have a strong appreciation for why LangChain is such a popular library for LLM-based application development."
   ]
  },
  {
   "cell_type": "markdown",
   "id": "4bf92848-0eda-4fdf-8226-c48c017969f4",
   "metadata": {},
   "source": [
    "---"
   ]
  },
  {
   "cell_type": "markdown",
   "id": "10016277-0c6a-4de3-b7ca-aec1a8949228",
   "metadata": {},
   "source": [
    "## Section Table of Contents"
   ]
  },
  {
   "cell_type": "markdown",
   "id": "c7f938cd-c20c-4c6a-a09b-33b2437661fd",
   "metadata": {},
   "source": [
    "1. **LangChain Expression Language and Chains:** In this notebook you will learn about LangChain runnables, and the ability to compose them into chains using LangChain Expression Language (LCEL).\n",
    "2. **Runnable Functions:** In this notebook you will learn how to convert custom functions into runnables that can be included in LangChain chains.\n",
    "3. **Combining Chains:** In this notebook you'll learn how to compose multiple LLM-related chains.\n",
    "4. **Parallel Chains:** In this notebook you'll learn how to create and use parallel chains."
   ]
  },
  {
   "cell_type": "code",
   "execution_count": null,
   "id": "6ca0b280-650e-40fa-b6cb-1b2076e2a967",
   "metadata": {},
   "outputs": [],
   "source": []
  }
 ],
 "metadata": {
  "kernelspec": {
   "display_name": "Python 3 (ipykernel)",
   "language": "python",
   "name": "python3"
  },
  "language_info": {
   "codemirror_mode": {
    "name": "ipython",
    "version": 3
   },
   "file_extension": ".py",
   "mimetype": "text/x-python",
   "name": "python",
   "nbconvert_exporter": "python",
   "pygments_lexer": "ipython3",
   "version": "3.12.1"
  }
 },
 "nbformat": 4,
 "nbformat_minor": 5
}
